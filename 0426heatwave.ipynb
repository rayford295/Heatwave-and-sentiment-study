{
  "nbformat": 4,
  "nbformat_minor": 0,
  "metadata": {
    "colab": {
      "provenance": []
    },
    "kernelspec": {
      "name": "python3",
      "display_name": "Python 3"
    },
    "language_info": {
      "name": "python"
    }
  },
  "cells": [
    {
      "cell_type": "code",
      "source": [
        "# 安装Python库rpy2\n",
        "!pip install rpy2\n",
        "\n",
        "# 安装R包INLA及其依赖包\n",
        "!R -e \"install.packages(c('sp', 'fmesher'), repos=c('http://cran.r-project.org'))\"\n",
        "!R -e \"install.packages('INLA', repos='https://inla.r-inla-download.org/R/stable')\""
      ],
      "metadata": {
        "colab": {
          "base_uri": "https://localhost:8080/"
        },
        "id": "r2-NcxrnOpBx",
        "outputId": "77d6a247-4b56-4468-ac5a-75c7d16dd1b8"
      },
      "execution_count": null,
      "outputs": [
        {
          "output_type": "stream",
          "name": "stdout",
          "text": [
            "Requirement already satisfied: rpy2 in /usr/local/lib/python3.10/dist-packages (3.5.16)\n",
            "Requirement already satisfied: cffi>=1.15.1 in /usr/local/lib/python3.10/dist-packages (from rpy2) (1.16.0)\n",
            "Requirement already satisfied: jinja2 in /usr/local/lib/python3.10/dist-packages (from rpy2) (3.1.3)\n",
            "Requirement already satisfied: tzlocal in /usr/local/lib/python3.10/dist-packages (from rpy2) (5.2)\n",
            "Requirement already satisfied: pycparser in /usr/local/lib/python3.10/dist-packages (from cffi>=1.15.1->rpy2) (2.22)\n",
            "Requirement already satisfied: MarkupSafe>=2.0 in /usr/local/lib/python3.10/dist-packages (from jinja2->rpy2) (2.1.5)\n",
            "\n",
            "R version 4.3.3 (2024-02-29) -- \"Angel Food Cake\"\n",
            "Copyright (C) 2024 The R Foundation for Statistical Computing\n",
            "Platform: x86_64-pc-linux-gnu (64-bit)\n",
            "\n",
            "R is free software and comes with ABSOLUTELY NO WARRANTY.\n",
            "You are welcome to redistribute it under certain conditions.\n",
            "Type 'license()' or 'licence()' for distribution details.\n",
            "\n",
            "  Natural language support but running in an English locale\n",
            "\n",
            "R is a collaborative project with many contributors.\n",
            "Type 'contributors()' for more information and\n",
            "'citation()' on how to cite R or R packages in publications.\n",
            "\n",
            "Type 'demo()' for some demos, 'help()' for on-line help, or\n",
            "'help.start()' for an HTML browser interface to help.\n",
            "Type 'q()' to quit R.\n",
            "\n",
            "> install.packages(c('sp', 'fmesher'), repos=c('http://cran.r-project.org'))\n",
            "Installing packages into ‘/usr/local/lib/R/site-library’\n",
            "(as ‘lib’ is unspecified)\n",
            "trying URL 'http://cran.r-project.org/src/contrib/sp_2.1-3.tar.gz'\n",
            "Content type 'application/x-gzip' length 1244605 bytes (1.2 MB)\n",
            "==================================================\n",
            "downloaded 1.2 MB\n",
            "\n",
            "trying URL 'http://cran.r-project.org/src/contrib/fmesher_0.1.5.tar.gz'\n",
            "Content type 'application/x-gzip' length 1001104 bytes (977 KB)\n",
            "==================================================\n",
            "downloaded 977 KB\n",
            "\n",
            "* installing *source* package ‘sp’ ...\n",
            "** package ‘sp’ successfully unpacked and MD5 sums checked\n",
            "** using staged installation\n",
            "** libs\n",
            "using C compiler: ‘gcc (Ubuntu 11.4.0-1ubuntu1~22.04) 11.4.0’\n",
            "gcc -I\"/usr/share/R/include\" -DNDEBUG       -fpic  -g -O2 -ffile-prefix-map=/build/r-base-14Q6vq/r-base-4.3.3=. -fstack-protector-strong -Wformat -Werror=format-security -Wdate-time -D_FORTIFY_SOURCE=2  -c Rcentroid.c -o Rcentroid.o\n",
            "gcc -I\"/usr/share/R/include\" -DNDEBUG       -fpic  -g -O2 -ffile-prefix-map=/build/r-base-14Q6vq/r-base-4.3.3=. -fstack-protector-strong -Wformat -Werror=format-security -Wdate-time -D_FORTIFY_SOURCE=2  -c gcdist.c -o gcdist.o\n",
            "gcc -I\"/usr/share/R/include\" -DNDEBUG       -fpic  -g -O2 -ffile-prefix-map=/build/r-base-14Q6vq/r-base-4.3.3=. -fstack-protector-strong -Wformat -Werror=format-security -Wdate-time -D_FORTIFY_SOURCE=2  -c init.c -o init.o\n",
            "gcc -I\"/usr/share/R/include\" -DNDEBUG       -fpic  -g -O2 -ffile-prefix-map=/build/r-base-14Q6vq/r-base-4.3.3=. -fstack-protector-strong -Wformat -Werror=format-security -Wdate-time -D_FORTIFY_SOURCE=2  -c pip.c -o pip.o\n",
            "gcc -I\"/usr/share/R/include\" -DNDEBUG       -fpic  -g -O2 -ffile-prefix-map=/build/r-base-14Q6vq/r-base-4.3.3=. -fstack-protector-strong -Wformat -Werror=format-security -Wdate-time -D_FORTIFY_SOURCE=2  -c pip2.c -o pip2.o\n",
            "gcc -I\"/usr/share/R/include\" -DNDEBUG       -fpic  -g -O2 -ffile-prefix-map=/build/r-base-14Q6vq/r-base-4.3.3=. -fstack-protector-strong -Wformat -Werror=format-security -Wdate-time -D_FORTIFY_SOURCE=2  -c sp_xports.c -o sp_xports.o\n",
            "gcc -I\"/usr/share/R/include\" -DNDEBUG       -fpic  -g -O2 -ffile-prefix-map=/build/r-base-14Q6vq/r-base-4.3.3=. -fstack-protector-strong -Wformat -Werror=format-security -Wdate-time -D_FORTIFY_SOURCE=2  -c surfaceArea.c -o surfaceArea.o\n",
            "gcc -I\"/usr/share/R/include\" -DNDEBUG       -fpic  -g -O2 -ffile-prefix-map=/build/r-base-14Q6vq/r-base-4.3.3=. -fstack-protector-strong -Wformat -Werror=format-security -Wdate-time -D_FORTIFY_SOURCE=2  -c zerodist.c -o zerodist.o\n",
            "gcc -shared -L/usr/lib/R/lib -Wl,-Bsymbolic-functions -flto=auto -ffat-lto-objects -flto=auto -Wl,-z,relro -o sp.so Rcentroid.o gcdist.o init.o pip.o pip2.o sp_xports.o surfaceArea.o zerodist.o -L/usr/lib/R/lib -lR\n",
            "installing to /usr/local/lib/R/site-library/00LOCK-sp/00new/sp/libs\n",
            "** R\n",
            "** data\n",
            "** demo\n",
            "** inst\n",
            "** byte-compile and prepare package for lazy loading\n",
            "** help\n",
            "*** installing help indices\n",
            "** building package indices\n",
            "** installing vignettes\n",
            "** testing if installed package can be loaded from temporary location\n",
            "** checking absolute paths in shared objects and dynamic libraries\n",
            "** testing if installed package can be loaded from final location\n",
            "** testing if installed package keeps a record of temporary installation path\n",
            "* DONE (sp)\n",
            "* installing *source* package ‘fmesher’ ...\n",
            "** package ‘fmesher’ successfully unpacked and MD5 sums checked\n",
            "** using staged installation\n",
            "** libs\n",
            "using C++ compiler: ‘g++ (Ubuntu 11.4.0-1ubuntu1~22.04) 11.4.0’\n",
            "using C++17\n",
            "g++ -std=gnu++17 -I\"/usr/share/R/include\" -DNDEBUG -DFMESHER_WITH_R -I'/usr/local/lib/R/site-library/Rcpp/include'     -fpic  -g -O2 -ffile-prefix-map=/build/r-base-14Q6vq/r-base-4.3.3=. -fstack-protector-strong -Wformat -Werror=format-security -Wdate-time -D_FORTIFY_SOURCE=2  -c RcppExports.cpp -o RcppExports.o\n",
            "g++ -std=gnu++17 -I\"/usr/share/R/include\" -DNDEBUG -DFMESHER_WITH_R -I'/usr/local/lib/R/site-library/Rcpp/include'     -fpic  -g -O2 -ffile-prefix-map=/build/r-base-14Q6vq/r-base-4.3.3=. -fstack-protector-strong -Wformat -Werror=format-security -Wdate-time -D_FORTIFY_SOURCE=2  -c Rcpp_interface.cc -o Rcpp_interface.o\n",
            "g++ -std=gnu++17 -I\"/usr/share/R/include\" -DNDEBUG -DFMESHER_WITH_R -I'/usr/local/lib/R/site-library/Rcpp/include'     -fpic  -g -O2 -ffile-prefix-map=/build/r-base-14Q6vq/r-base-4.3.3=. -fstack-protector-strong -Wformat -Werror=format-security -Wdate-time -D_FORTIFY_SOURCE=2  -c basis.cc -o basis.o\n",
            "g++ -std=gnu++17 -I\"/usr/share/R/include\" -DNDEBUG -DFMESHER_WITH_R -I'/usr/local/lib/R/site-library/Rcpp/include'     -fpic  -g -O2 -ffile-prefix-map=/build/r-base-14Q6vq/r-base-4.3.3=. -fstack-protector-strong -Wformat -Werror=format-security -Wdate-time -D_FORTIFY_SOURCE=2  -c fmesher_helpers.cc -o fmesher_helpers.o\n",
            "g++ -std=gnu++17 -I\"/usr/share/R/include\" -DNDEBUG -DFMESHER_WITH_R -I'/usr/local/lib/R/site-library/Rcpp/include'     -fpic  -g -O2 -ffile-prefix-map=/build/r-base-14Q6vq/r-base-4.3.3=. -fstack-protector-strong -Wformat -Werror=format-security -Wdate-time -D_FORTIFY_SOURCE=2  -c ioutils.cc -o ioutils.o\n",
            "g++ -std=gnu++17 -I\"/usr/share/R/include\" -DNDEBUG -DFMESHER_WITH_R -I'/usr/local/lib/R/site-library/Rcpp/include'     -fpic  -g -O2 -ffile-prefix-map=/build/r-base-14Q6vq/r-base-4.3.3=. -fstack-protector-strong -Wformat -Werror=format-security -Wdate-time -D_FORTIFY_SOURCE=2  -c locator.cc -o locator.o\n",
            "g++ -std=gnu++17 -I\"/usr/share/R/include\" -DNDEBUG -DFMESHER_WITH_R -I'/usr/local/lib/R/site-library/Rcpp/include'     -fpic  -g -O2 -ffile-prefix-map=/build/r-base-14Q6vq/r-base-4.3.3=. -fstack-protector-strong -Wformat -Werror=format-security -Wdate-time -D_FORTIFY_SOURCE=2  -c mesh.cc -o mesh.o\n",
            "g++ -std=gnu++17 -I\"/usr/share/R/include\" -DNDEBUG -DFMESHER_WITH_R -I'/usr/local/lib/R/site-library/Rcpp/include'     -fpic  -g -O2 -ffile-prefix-map=/build/r-base-14Q6vq/r-base-4.3.3=. -fstack-protector-strong -Wformat -Werror=format-security -Wdate-time -D_FORTIFY_SOURCE=2  -c meshc.cc -o meshc.o\n",
            "g++ -std=gnu++17 -I\"/usr/share/R/include\" -DNDEBUG -DFMESHER_WITH_R -I'/usr/local/lib/R/site-library/Rcpp/include'     -fpic  -g -O2 -ffile-prefix-map=/build/r-base-14Q6vq/r-base-4.3.3=. -fstack-protector-strong -Wformat -Werror=format-security -Wdate-time -D_FORTIFY_SOURCE=2  -c predicates.cc -o predicates.o\n",
            "g++ -std=gnu++17 -I\"/usr/share/R/include\" -DNDEBUG -DFMESHER_WITH_R -I'/usr/local/lib/R/site-library/Rcpp/include'     -fpic  -g -O2 -ffile-prefix-map=/build/r-base-14Q6vq/r-base-4.3.3=. -fstack-protector-strong -Wformat -Werror=format-security -Wdate-time -D_FORTIFY_SOURCE=2  -c trees.cc -o trees.o\n",
            "g++ -std=gnu++17 -I\"/usr/share/R/include\" -DNDEBUG -DFMESHER_WITH_R -I'/usr/local/lib/R/site-library/Rcpp/include'     -fpic  -g -O2 -ffile-prefix-map=/build/r-base-14Q6vq/r-base-4.3.3=. -fstack-protector-strong -Wformat -Werror=format-security -Wdate-time -D_FORTIFY_SOURCE=2  -c vector.cc -o vector.o\n",
            "g++ -std=gnu++17 -shared -L/usr/lib/R/lib -Wl,-Bsymbolic-functions -flto=auto -ffat-lto-objects -flto=auto -Wl,-z,relro -o fmesher.so RcppExports.o Rcpp_interface.o basis.o fmesher_helpers.o ioutils.o locator.o mesh.o meshc.o predicates.o trees.o vector.o -L/usr/lib/R/lib -lR\n",
            "installing to /usr/local/lib/R/site-library/00LOCK-fmesher/00new/fmesher/libs\n",
            "** R\n",
            "** data\n",
            "*** moving datasets to lazyload DB\n",
            "** inst\n",
            "** byte-compile and prepare package for lazy loading\n",
            "** help\n",
            "*** installing help indices\n",
            "*** copying figures\n",
            "** building package indices\n",
            "** installing vignettes\n",
            "** testing if installed package can be loaded from temporary location\n",
            "** checking absolute paths in shared objects and dynamic libraries\n",
            "** testing if installed package can be loaded from final location\n",
            "** testing if installed package keeps a record of temporary installation path\n",
            "* DONE (fmesher)\n",
            "\n",
            "The downloaded source packages are in\n",
            "\t‘/tmp/RtmpkRdc8g/downloaded_packages’\n",
            "> \n",
            "> \n",
            "\n",
            "R version 4.3.3 (2024-02-29) -- \"Angel Food Cake\"\n",
            "Copyright (C) 2024 The R Foundation for Statistical Computing\n",
            "Platform: x86_64-pc-linux-gnu (64-bit)\n",
            "\n",
            "R is free software and comes with ABSOLUTELY NO WARRANTY.\n",
            "You are welcome to redistribute it under certain conditions.\n",
            "Type 'license()' or 'licence()' for distribution details.\n",
            "\n",
            "  Natural language support but running in an English locale\n",
            "\n",
            "R is a collaborative project with many contributors.\n",
            "Type 'contributors()' for more information and\n",
            "'citation()' on how to cite R or R packages in publications.\n",
            "\n",
            "Type 'demo()' for some demos, 'help()' for on-line help, or\n",
            "'help.start()' for an HTML browser interface to help.\n",
            "Type 'q()' to quit R.\n",
            "\n",
            "> install.packages('INLA', repos='https://inla.r-inla-download.org/R/stable')\n",
            "Installing package into ‘/usr/local/lib/R/site-library’\n",
            "(as ‘lib’ is unspecified)\n",
            "trying URL 'https://inla.r-inla-download.org/R/stable/src/contrib/INLA_24.02.09.tar.gz'\n",
            "Content type 'application/x-gzip' length 81844375 bytes (78.1 MB)\n",
            "==================================================\n",
            "downloaded 78.1 MB\n",
            "\n",
            "* installing *binary* package ‘INLA’ ...\n",
            "* DONE (INLA)\n",
            "\n",
            "The downloaded source packages are in\n",
            "\t‘/tmp/Rtmpx6V30T/downloaded_packages’\n",
            "> \n",
            "> \n"
          ]
        }
      ]
    },
    {
      "cell_type": "code",
      "source": [
        "import geopandas as gpd\n",
        "import pandas as pd\n",
        "\n",
        "# 读取SHP文件\n",
        "gdf = gpd.read_file('/content/County.shp')\n",
        "\n",
        "# 计算邻接关系\n",
        "adjacency_matrix = gdf.geometry.apply(lambda x: gdf.geometry.touches(x)).astype(int)\n",
        "\n",
        "adjacency_df = pd.DataFrame(adjacency_matrix, index=gdf.index, columns=gdf.index)"
      ],
      "metadata": {
        "id": "YMlqPmXBWpSU"
      },
      "execution_count": null,
      "outputs": []
    },
    {
      "cell_type": "code",
      "source": [
        "# 显示邻接矩阵的前5行和前5列\n",
        "print(adjacency_df.iloc[:5, :5])"
      ],
      "metadata": {
        "colab": {
          "base_uri": "https://localhost:8080/"
        },
        "id": "jr4Pt6IrY7my",
        "outputId": "36f503e8-9651-4d9b-9f57-0eb347a1b093"
      },
      "execution_count": null,
      "outputs": [
        {
          "output_type": "stream",
          "name": "stdout",
          "text": [
            "   0  1  2  3  4\n",
            "0  0  0  0  0  0\n",
            "1  0  0  0  0  0\n",
            "2  0  0  0  0  0\n",
            "3  0  0  0  0  0\n",
            "4  0  0  0  0  0\n"
          ]
        }
      ]
    },
    {
      "cell_type": "code",
      "source": [
        "import geopandas as gpd\n",
        "\n",
        "# 读取SHP文件\n",
        "gdf = gpd.read_file('/content/County.shp')\n",
        "\n",
        "# 检查数据框架以确认GEOID列存在\n",
        "print(gdf.columns)"
      ],
      "metadata": {
        "colab": {
          "base_uri": "https://localhost:8080/"
        },
        "id": "7TPdNKr9ZPDR",
        "outputId": "7d4b6e46-7117-44bb-e169-395b05fe2178"
      },
      "execution_count": null,
      "outputs": [
        {
          "output_type": "stream",
          "name": "stdout",
          "text": [
            "Index(['STATEFP', 'COUNTYFP', 'COUNTYNS', 'GEOID', 'NAME', 'NAMELSAD', 'LSAD',\n",
            "       'CLASSFP', 'MTFCC', 'CSAFP', 'CBSAFP', 'METDIVFP', 'FUNCSTAT', 'ALAND',\n",
            "       'AWATER', 'INTPTLAT', 'INTPTLON', 'geoid_j', 'geometry'],\n",
            "      dtype='object')\n"
          ]
        }
      ]
    },
    {
      "cell_type": "code",
      "source": [
        "import geopandas as gpd\n",
        "import pandas as pd\n",
        "\n",
        "# 读取SHP文件\n",
        "gdf = gpd.read_file('/content/County.shp')\n",
        "\n",
        "# 将GEOID设置为索引\n",
        "gdf.set_index('GEOID', inplace=True)\n",
        "\n",
        "# 计算邻接矩阵，使用GEOID作为行和列的标签\n",
        "adjacency_matrix = gdf.geometry.apply(lambda x: gdf.geometry.touches(x)).astype(int)\n",
        "adjacency_df = pd.DataFrame(adjacency_matrix, index=gdf.index, columns=gdf.index)\n",
        "\n",
        "# 显示邻接矩阵的前5行和前5列\n",
        "print(adjacency_df.iloc[:5, :5])"
      ],
      "metadata": {
        "colab": {
          "base_uri": "https://localhost:8080/"
        },
        "id": "pLJqf8ZFZhGg",
        "outputId": "9669af07-4b0f-4e1b-9832-42257796560a"
      },
      "execution_count": null,
      "outputs": [
        {
          "output_type": "stream",
          "name": "stdout",
          "text": [
            "GEOID  31039  53069  35011  31109  31129\n",
            "GEOID                                   \n",
            "31039      0      0      0      0      0\n",
            "53069      0      0      0      0      0\n",
            "35011      0      0      0      0      0\n",
            "31109      0      0      0      0      0\n",
            "31129      0      0      0      0      0\n"
          ]
        }
      ]
    },
    {
      "cell_type": "code",
      "source": [
        "pip install --upgrade pandas rpy2"
      ],
      "metadata": {
        "colab": {
          "base_uri": "https://localhost:8080/"
        },
        "id": "Vy5CbMdQdcFf",
        "outputId": "cb3a7ece-816a-4737-c76b-0abeca8947bc"
      },
      "execution_count": null,
      "outputs": [
        {
          "output_type": "stream",
          "name": "stdout",
          "text": [
            "Requirement already satisfied: pandas in /usr/local/lib/python3.10/dist-packages (2.2.2)\n",
            "Requirement already satisfied: rpy2 in /usr/local/lib/python3.10/dist-packages (3.5.16)\n",
            "Requirement already satisfied: numpy>=1.22.4 in /usr/local/lib/python3.10/dist-packages (from pandas) (1.25.2)\n",
            "Requirement already satisfied: python-dateutil>=2.8.2 in /usr/local/lib/python3.10/dist-packages (from pandas) (2.8.2)\n",
            "Requirement already satisfied: pytz>=2020.1 in /usr/local/lib/python3.10/dist-packages (from pandas) (2023.4)\n",
            "Requirement already satisfied: tzdata>=2022.7 in /usr/local/lib/python3.10/dist-packages (from pandas) (2024.1)\n",
            "Requirement already satisfied: cffi>=1.15.1 in /usr/local/lib/python3.10/dist-packages (from rpy2) (1.16.0)\n",
            "Requirement already satisfied: jinja2 in /usr/local/lib/python3.10/dist-packages (from rpy2) (3.1.3)\n",
            "Requirement already satisfied: tzlocal in /usr/local/lib/python3.10/dist-packages (from rpy2) (5.2)\n",
            "Requirement already satisfied: pycparser in /usr/local/lib/python3.10/dist-packages (from cffi>=1.15.1->rpy2) (2.22)\n",
            "Requirement already satisfied: six>=1.5 in /usr/local/lib/python3.10/dist-packages (from python-dateutil>=2.8.2->pandas) (1.16.0)\n",
            "Requirement already satisfied: MarkupSafe>=2.0 in /usr/local/lib/python3.10/dist-packages (from jinja2->rpy2) (2.1.5)\n"
          ]
        }
      ]
    },
    {
      "cell_type": "code",
      "source": [
        "pip install --upgrade rpy2"
      ],
      "metadata": {
        "colab": {
          "base_uri": "https://localhost:8080/"
        },
        "id": "gzWtWdMNfXHB",
        "outputId": "7e4c4fdb-3415-4e44-fc7b-00592c70e333"
      },
      "execution_count": null,
      "outputs": [
        {
          "output_type": "stream",
          "name": "stdout",
          "text": [
            "Requirement already satisfied: rpy2 in /usr/local/lib/python3.10/dist-packages (3.5.16)\n",
            "Requirement already satisfied: cffi>=1.15.1 in /usr/local/lib/python3.10/dist-packages (from rpy2) (1.16.0)\n",
            "Requirement already satisfied: jinja2 in /usr/local/lib/python3.10/dist-packages (from rpy2) (3.1.3)\n",
            "Requirement already satisfied: tzlocal in /usr/local/lib/python3.10/dist-packages (from rpy2) (5.2)\n",
            "Requirement already satisfied: pycparser in /usr/local/lib/python3.10/dist-packages (from cffi>=1.15.1->rpy2) (2.22)\n",
            "Requirement already satisfied: MarkupSafe>=2.0 in /usr/local/lib/python3.10/dist-packages (from jinja2->rpy2) (2.1.5)\n"
          ]
        }
      ]
    },
    {
      "cell_type": "code",
      "source": [
        "from rpy2 import robjects as ro\n",
        "import rpy2.robjects.pandas2ri as pandas2ri\n",
        "from rpy2.rinterface_lib.embedded import RRuntimeError\n",
        "import pandas as pd\n",
        "\n",
        "# 加载数据\n",
        "data_path = \"/content/TestData_California.csv\"\n",
        "df = pd.read_csv(data_path)\n",
        "\n",
        "# 尝试加载INLA库,捕获任何错误\n",
        "try:\n",
        "    inla = ro.r('library(INLA)')\n",
        "except RRuntimeError as e:\n",
        "    print(f\"Failed to load INLA library in R: {e}\")\n",
        "\n",
        "# 将Pandas DataFrame转换为R的data.frame\n",
        "r_df = pandas2ri.ri2py_dataframe(df)\n",
        "\n",
        "# 设置R全局环境中的数据框\n",
        "ro.globalenv['r_df'] = r_df\n",
        "\n",
        "def run_inla_model(formula, data):\n",
        "    \"\"\"\n",
        "    使用INLA运行贝叶斯层次模型。\n",
        "    :param formula: R风格的模型公式字符串。\n",
        "    :param data: 数据集,Pandas DataFrame格式。\n",
        "    \"\"\"\n",
        "    try:\n",
        "        # 运行INLA模型\n",
        "        model_fit = ro.r(f\"\"\"\n",
        "            inla(formula = '{formula}', data = r_df, family = 'gaussian', control.predictor = list(compute = TRUE))\n",
        "        \"\"\")\n",
        "        # 打印模型摘要\n",
        "        print(ro.r('summary')(model_fit))\n",
        "    except RRuntimeError as e:\n",
        "        print(f\"Error running INLA model: {e}\")\n",
        "\n",
        "# 定义基础模型公式\n",
        "base_model_formula = \"SentimentScore ~ as.factor(STATEcode) + as.factor(Year) + as.factor(Month) + as.factor(Week) + as.factor(Weekend) + as.factor(Holiday) + VulnerabilityIndex\"\n",
        "\n",
        "# 运行基础模型\n",
        "print(\"Running Base Model\")\n",
        "run_inla_model(base_model_formula, df)"
      ],
      "metadata": {
        "colab": {
          "base_uri": "https://localhost:8080/",
          "height": 211
        },
        "id": "ZM4dCfiyalIz",
        "outputId": "54112e11-cbe0-48c5-bf32-a2116792cf17"
      },
      "execution_count": null,
      "outputs": [
        {
          "output_type": "error",
          "ename": "AttributeError",
          "evalue": "module 'rpy2.robjects.pandas2ri' has no attribute 'ri2py_dataframe'",
          "traceback": [
            "\u001b[0;31m---------------------------------------------------------------------------\u001b[0m",
            "\u001b[0;31mAttributeError\u001b[0m                            Traceback (most recent call last)",
            "\u001b[0;32m<ipython-input-10-15c842087e27>\u001b[0m in \u001b[0;36m<cell line: 17>\u001b[0;34m()\u001b[0m\n\u001b[1;32m     15\u001b[0m \u001b[0;34m\u001b[0m\u001b[0m\n\u001b[1;32m     16\u001b[0m \u001b[0;31m# 将Pandas DataFrame转换为R的data.frame\u001b[0m\u001b[0;34m\u001b[0m\u001b[0;34m\u001b[0m\u001b[0m\n\u001b[0;32m---> 17\u001b[0;31m \u001b[0mr_df\u001b[0m \u001b[0;34m=\u001b[0m \u001b[0mpandas2ri\u001b[0m\u001b[0;34m.\u001b[0m\u001b[0mri2py_dataframe\u001b[0m\u001b[0;34m(\u001b[0m\u001b[0mdf\u001b[0m\u001b[0;34m)\u001b[0m\u001b[0;34m\u001b[0m\u001b[0;34m\u001b[0m\u001b[0m\n\u001b[0m\u001b[1;32m     18\u001b[0m \u001b[0;34m\u001b[0m\u001b[0m\n\u001b[1;32m     19\u001b[0m \u001b[0;31m# 设置R全局环境中的数据框\u001b[0m\u001b[0;34m\u001b[0m\u001b[0;34m\u001b[0m\u001b[0m\n",
            "\u001b[0;31mAttributeError\u001b[0m: module 'rpy2.robjects.pandas2ri' has no attribute 'ri2py_dataframe'"
          ]
        }
      ]
    },
    {
      "cell_type": "code",
      "source": [
        "base_formula = \"Sentiment ~ STATEcode + COUNTYFP + Year + Month + Week + Weekend + Holiday + VulnerabilityIndex\"\n",
        "\n",
        "# 添加各种环境因素的模型公式\n",
        "model_formulas = {\n",
        "    \"Base + Heatwave\": base_formula + \" + Heatwave\",\n",
        "    \"Base + Air Pollution\": base_formula + \" + AirPollutionInterpolate\",\n",
        "    \"Base + Rainfall\": base_formula + \" + PrecipitationAnomaly\",\n",
        "    \"Base + Heatwave + Air Pollution\": base_formula + \" + Heatwave + AirPollutionInterpolate\",\n",
        "    \"Base + Heatwave + Rainfall\": base_formula + \" + Heatwave + PrecipitationAnomaly\",\n",
        "    \"Base + Air Pollution + Rainfall\": base_formula + \" + AirPollutionInterpolate + PrecipitationAnomaly\",\n",
        "    \"Base + All Environmental Factors\": base_formula + \" + Heatwave + AirPollutionInterpolate + PrecipitationAnomaly\"\n",
        "}\n",
        "\n",
        "# 假设run_inla_model是用来运行模型的函数，模型结果将会告诉我们哪个模型最适合\n",
        "for model_name, formula in model_formulas.items():\n",
        "    print(f\"Running {model_name}\")\n",
        "    run_inla_model(formula, df)\n",
        "    print(\"\\n\" + \"=\"*50 + \"\\n\")\n"
      ],
      "metadata": {
        "colab": {
          "base_uri": "https://localhost:8080/",
          "height": 720
        },
        "id": "MMizFI91f1ul",
        "outputId": "310a9297-63ca-42b9-dc33-34d34f801cca"
      },
      "execution_count": null,
      "outputs": [
        {
          "output_type": "stream",
          "name": "stdout",
          "text": [
            "Running Base + Heatwave\n"
          ]
        },
        {
          "output_type": "stream",
          "name": "stderr",
          "text": [
            "/usr/local/lib/python3.10/dist-packages/rpy2/robjects/pandas2ri.py:65: UserWarning: Error while trying to convert the column \"GEOID\". Fall back to string conversion. The error is: \n",
            "    Conversion rules for `rpy2.robjects` appear to be missing. Those\n",
            "    rules are in a Python `contextvars.ContextVar`. This could be caused\n",
            "    by multithreading code not passing context to the thread.\n",
            "    Check rpy2's documentation about conversions.\n",
            "    \n",
            "  warnings.warn('Error while trying to convert '\n"
          ]
        },
        {
          "output_type": "error",
          "ename": "NotImplementedError",
          "evalue": "\n    Conversion rules for `rpy2.robjects` appear to be missing. Those\n    rules are in a Python `contextvars.ContextVar`. This could be caused\n    by multithreading code not passing context to the thread.\n    Check rpy2's documentation about conversions.\n    ",
          "traceback": [
            "\u001b[0;31m---------------------------------------------------------------------------\u001b[0m",
            "\u001b[0;31mNotImplementedError\u001b[0m                       Traceback (most recent call last)",
            "\u001b[0;32m/usr/local/lib/python3.10/dist-packages/rpy2/robjects/pandas2ri.py\u001b[0m in \u001b[0;36mpy2rpy_pandasdataframe\u001b[0;34m(obj)\u001b[0m\n\u001b[1;32m     62\u001b[0m         \u001b[0;32mtry\u001b[0m\u001b[0;34m:\u001b[0m\u001b[0;34m\u001b[0m\u001b[0;34m\u001b[0m\u001b[0m\n\u001b[0;32m---> 63\u001b[0;31m             \u001b[0mod\u001b[0m\u001b[0;34m[\u001b[0m\u001b[0mname\u001b[0m\u001b[0;34m]\u001b[0m \u001b[0;34m=\u001b[0m \u001b[0mconversion\u001b[0m\u001b[0;34m.\u001b[0m\u001b[0mconverter_ctx\u001b[0m\u001b[0;34m.\u001b[0m\u001b[0mget\u001b[0m\u001b[0;34m(\u001b[0m\u001b[0;34m)\u001b[0m\u001b[0;34m.\u001b[0m\u001b[0mpy2rpy\u001b[0m\u001b[0;34m(\u001b[0m\u001b[0mvalues\u001b[0m\u001b[0;34m)\u001b[0m\u001b[0;34m\u001b[0m\u001b[0;34m\u001b[0m\u001b[0m\n\u001b[0m\u001b[1;32m     64\u001b[0m         \u001b[0;32mexcept\u001b[0m \u001b[0mException\u001b[0m \u001b[0;32mas\u001b[0m \u001b[0me\u001b[0m\u001b[0;34m:\u001b[0m\u001b[0;34m\u001b[0m\u001b[0;34m\u001b[0m\u001b[0m\n",
            "\u001b[0;32m/usr/lib/python3.10/functools.py\u001b[0m in \u001b[0;36mwrapper\u001b[0;34m(*args, **kw)\u001b[0m\n\u001b[1;32m    888\u001b[0m \u001b[0;34m\u001b[0m\u001b[0m\n\u001b[0;32m--> 889\u001b[0;31m         \u001b[0;32mreturn\u001b[0m \u001b[0mdispatch\u001b[0m\u001b[0;34m(\u001b[0m\u001b[0margs\u001b[0m\u001b[0;34m[\u001b[0m\u001b[0;36m0\u001b[0m\u001b[0;34m]\u001b[0m\u001b[0;34m.\u001b[0m\u001b[0m__class__\u001b[0m\u001b[0;34m)\u001b[0m\u001b[0;34m(\u001b[0m\u001b[0;34m*\u001b[0m\u001b[0margs\u001b[0m\u001b[0;34m,\u001b[0m \u001b[0;34m**\u001b[0m\u001b[0mkw\u001b[0m\u001b[0;34m)\u001b[0m\u001b[0;34m\u001b[0m\u001b[0;34m\u001b[0m\u001b[0m\n\u001b[0m\u001b[1;32m    890\u001b[0m \u001b[0;34m\u001b[0m\u001b[0m\n",
            "\u001b[0;32m/usr/local/lib/python3.10/dist-packages/rpy2/robjects/conversion.py\u001b[0m in \u001b[0;36m_raise_missingconverter\u001b[0;34m(obj)\u001b[0m\n\u001b[1;32m    383\u001b[0m     \"\"\"\n\u001b[0;32m--> 384\u001b[0;31m     \u001b[0;32mraise\u001b[0m \u001b[0mNotImplementedError\u001b[0m\u001b[0;34m(\u001b[0m\u001b[0m_missingconverter_msg\u001b[0m\u001b[0;34m)\u001b[0m\u001b[0;34m\u001b[0m\u001b[0;34m\u001b[0m\u001b[0m\n\u001b[0m\u001b[1;32m    385\u001b[0m \u001b[0;34m\u001b[0m\u001b[0m\n",
            "\u001b[0;31mNotImplementedError\u001b[0m: \n    Conversion rules for `rpy2.robjects` appear to be missing. Those\n    rules are in a Python `contextvars.ContextVar`. This could be caused\n    by multithreading code not passing context to the thread.\n    Check rpy2's documentation about conversions.\n    ",
            "\nDuring handling of the above exception, another exception occurred:\n",
            "\u001b[0;31mNotImplementedError\u001b[0m                       Traceback (most recent call last)",
            "\u001b[0;32m<ipython-input-11-6295e5eb1601>\u001b[0m in \u001b[0;36m<cell line: 15>\u001b[0;34m()\u001b[0m\n\u001b[1;32m     15\u001b[0m \u001b[0;32mfor\u001b[0m \u001b[0mmodel_name\u001b[0m\u001b[0;34m,\u001b[0m \u001b[0mformula\u001b[0m \u001b[0;32min\u001b[0m \u001b[0mmodel_formulas\u001b[0m\u001b[0;34m.\u001b[0m\u001b[0mitems\u001b[0m\u001b[0;34m(\u001b[0m\u001b[0;34m)\u001b[0m\u001b[0;34m:\u001b[0m\u001b[0;34m\u001b[0m\u001b[0;34m\u001b[0m\u001b[0m\n\u001b[1;32m     16\u001b[0m     \u001b[0mprint\u001b[0m\u001b[0;34m(\u001b[0m\u001b[0;34mf\"Running {model_name}\"\u001b[0m\u001b[0;34m)\u001b[0m\u001b[0;34m\u001b[0m\u001b[0;34m\u001b[0m\u001b[0m\n\u001b[0;32m---> 17\u001b[0;31m     \u001b[0mrun_inla_model\u001b[0m\u001b[0;34m(\u001b[0m\u001b[0mformula\u001b[0m\u001b[0;34m,\u001b[0m \u001b[0mdf\u001b[0m\u001b[0;34m)\u001b[0m\u001b[0;34m\u001b[0m\u001b[0;34m\u001b[0m\u001b[0m\n\u001b[0m\u001b[1;32m     18\u001b[0m     \u001b[0mprint\u001b[0m\u001b[0;34m(\u001b[0m\u001b[0;34m\"\\n\"\u001b[0m \u001b[0;34m+\u001b[0m \u001b[0;34m\"=\"\u001b[0m\u001b[0;34m*\u001b[0m\u001b[0;36m50\u001b[0m \u001b[0;34m+\u001b[0m \u001b[0;34m\"\\n\"\u001b[0m\u001b[0;34m)\u001b[0m\u001b[0;34m\u001b[0m\u001b[0;34m\u001b[0m\u001b[0m\n",
            "\u001b[0;32m<ipython-input-6-4d039e8acaad>\u001b[0m in \u001b[0;36mrun_inla_model\u001b[0;34m(formula, data)\u001b[0m\n\u001b[1;32m     25\u001b[0m     \u001b[0;32mtry\u001b[0m\u001b[0;34m:\u001b[0m\u001b[0;34m\u001b[0m\u001b[0;34m\u001b[0m\u001b[0m\n\u001b[1;32m     26\u001b[0m         \u001b[0;31m# 将Pandas DataFrame转换为R的data.frame\u001b[0m\u001b[0;34m\u001b[0m\u001b[0;34m\u001b[0m\u001b[0m\n\u001b[0;32m---> 27\u001b[0;31m         \u001b[0mr_df\u001b[0m \u001b[0;34m=\u001b[0m \u001b[0mpandas2ri\u001b[0m\u001b[0;34m.\u001b[0m\u001b[0mpy2rpy\u001b[0m\u001b[0;34m(\u001b[0m\u001b[0mdata\u001b[0m\u001b[0;34m)\u001b[0m\u001b[0;34m\u001b[0m\u001b[0;34m\u001b[0m\u001b[0m\n\u001b[0m\u001b[1;32m     28\u001b[0m         \u001b[0;31m# 设置R全局环境中的数据框\u001b[0m\u001b[0;34m\u001b[0m\u001b[0;34m\u001b[0m\u001b[0m\n\u001b[1;32m     29\u001b[0m         \u001b[0mro\u001b[0m\u001b[0;34m.\u001b[0m\u001b[0mglobalenv\u001b[0m\u001b[0;34m[\u001b[0m\u001b[0;34m'r_df'\u001b[0m\u001b[0;34m]\u001b[0m \u001b[0;34m=\u001b[0m \u001b[0mr_df\u001b[0m\u001b[0;34m\u001b[0m\u001b[0;34m\u001b[0m\u001b[0m\n",
            "\u001b[0;32m/usr/lib/python3.10/functools.py\u001b[0m in \u001b[0;36mwrapper\u001b[0;34m(*args, **kw)\u001b[0m\n\u001b[1;32m    887\u001b[0m                             '1 positional argument')\n\u001b[1;32m    888\u001b[0m \u001b[0;34m\u001b[0m\u001b[0m\n\u001b[0;32m--> 889\u001b[0;31m         \u001b[0;32mreturn\u001b[0m \u001b[0mdispatch\u001b[0m\u001b[0;34m(\u001b[0m\u001b[0margs\u001b[0m\u001b[0;34m[\u001b[0m\u001b[0;36m0\u001b[0m\u001b[0;34m]\u001b[0m\u001b[0;34m.\u001b[0m\u001b[0m__class__\u001b[0m\u001b[0;34m)\u001b[0m\u001b[0;34m(\u001b[0m\u001b[0;34m*\u001b[0m\u001b[0margs\u001b[0m\u001b[0;34m,\u001b[0m \u001b[0;34m**\u001b[0m\u001b[0mkw\u001b[0m\u001b[0;34m)\u001b[0m\u001b[0;34m\u001b[0m\u001b[0;34m\u001b[0m\u001b[0m\n\u001b[0m\u001b[1;32m    890\u001b[0m \u001b[0;34m\u001b[0m\u001b[0m\n\u001b[1;32m    891\u001b[0m     \u001b[0mfuncname\u001b[0m \u001b[0;34m=\u001b[0m \u001b[0mgetattr\u001b[0m\u001b[0;34m(\u001b[0m\u001b[0mfunc\u001b[0m\u001b[0;34m,\u001b[0m \u001b[0;34m'__name__'\u001b[0m\u001b[0;34m,\u001b[0m \u001b[0;34m'singledispatch function'\u001b[0m\u001b[0;34m)\u001b[0m\u001b[0;34m\u001b[0m\u001b[0;34m\u001b[0m\u001b[0m\n",
            "\u001b[0;32m/usr/local/lib/python3.10/dist-packages/rpy2/robjects/pandas2ri.py\u001b[0m in \u001b[0;36mpy2rpy_pandasdataframe\u001b[0;34m(obj)\u001b[0m\n\u001b[1;32m     67\u001b[0m                           \u001b[0;34m'The error is: %s'\u001b[0m\u001b[0;34m\u001b[0m\u001b[0;34m\u001b[0m\u001b[0m\n\u001b[1;32m     68\u001b[0m                           % (name, str(e)))\n\u001b[0;32m---> 69\u001b[0;31m             od[name] = conversion.converter_ctx.get().py2rpy(\n\u001b[0m\u001b[1;32m     70\u001b[0m                 \u001b[0mvalues\u001b[0m\u001b[0;34m.\u001b[0m\u001b[0mastype\u001b[0m\u001b[0;34m(\u001b[0m\u001b[0;34m'string'\u001b[0m\u001b[0;34m)\u001b[0m\u001b[0;34m\u001b[0m\u001b[0;34m\u001b[0m\u001b[0m\n\u001b[1;32m     71\u001b[0m             )\n",
            "\u001b[0;32m/usr/lib/python3.10/functools.py\u001b[0m in \u001b[0;36mwrapper\u001b[0;34m(*args, **kw)\u001b[0m\n\u001b[1;32m    887\u001b[0m                             '1 positional argument')\n\u001b[1;32m    888\u001b[0m \u001b[0;34m\u001b[0m\u001b[0m\n\u001b[0;32m--> 889\u001b[0;31m         \u001b[0;32mreturn\u001b[0m \u001b[0mdispatch\u001b[0m\u001b[0;34m(\u001b[0m\u001b[0margs\u001b[0m\u001b[0;34m[\u001b[0m\u001b[0;36m0\u001b[0m\u001b[0;34m]\u001b[0m\u001b[0;34m.\u001b[0m\u001b[0m__class__\u001b[0m\u001b[0;34m)\u001b[0m\u001b[0;34m(\u001b[0m\u001b[0;34m*\u001b[0m\u001b[0margs\u001b[0m\u001b[0;34m,\u001b[0m \u001b[0;34m**\u001b[0m\u001b[0mkw\u001b[0m\u001b[0;34m)\u001b[0m\u001b[0;34m\u001b[0m\u001b[0;34m\u001b[0m\u001b[0m\n\u001b[0m\u001b[1;32m    890\u001b[0m \u001b[0;34m\u001b[0m\u001b[0m\n\u001b[1;32m    891\u001b[0m     \u001b[0mfuncname\u001b[0m \u001b[0;34m=\u001b[0m \u001b[0mgetattr\u001b[0m\u001b[0;34m(\u001b[0m\u001b[0mfunc\u001b[0m\u001b[0;34m,\u001b[0m \u001b[0;34m'__name__'\u001b[0m\u001b[0;34m,\u001b[0m \u001b[0;34m'singledispatch function'\u001b[0m\u001b[0;34m)\u001b[0m\u001b[0;34m\u001b[0m\u001b[0;34m\u001b[0m\u001b[0m\n",
            "\u001b[0;32m/usr/local/lib/python3.10/dist-packages/rpy2/robjects/conversion.py\u001b[0m in \u001b[0;36m_raise_missingconverter\u001b[0;34m(obj)\u001b[0m\n\u001b[1;32m    382\u001b[0m     \u001b[0mCheck\u001b[0m \u001b[0mrpy2\u001b[0m\u001b[0;31m'\u001b[0m\u001b[0ms\u001b[0m \u001b[0mdocumentation\u001b[0m \u001b[0mabout\u001b[0m \u001b[0mconversions\u001b[0m\u001b[0;34m.\u001b[0m\u001b[0;34m\u001b[0m\u001b[0;34m\u001b[0m\u001b[0m\n\u001b[1;32m    383\u001b[0m     \"\"\"\n\u001b[0;32m--> 384\u001b[0;31m     \u001b[0;32mraise\u001b[0m \u001b[0mNotImplementedError\u001b[0m\u001b[0;34m(\u001b[0m\u001b[0m_missingconverter_msg\u001b[0m\u001b[0;34m)\u001b[0m\u001b[0;34m\u001b[0m\u001b[0;34m\u001b[0m\u001b[0m\n\u001b[0m\u001b[1;32m    385\u001b[0m \u001b[0;34m\u001b[0m\u001b[0m\n\u001b[1;32m    386\u001b[0m \u001b[0;34m\u001b[0m\u001b[0m\n",
            "\u001b[0;31mNotImplementedError\u001b[0m: \n    Conversion rules for `rpy2.robjects` appear to be missing. Those\n    rules are in a Python `contextvars.ContextVar`. This could be caused\n    by multithreading code not passing context to the thread.\n    Check rpy2's documentation about conversions.\n    "
          ]
        }
      ]
    },
    {
      "cell_type": "code",
      "source": [
        "# 假设df已经包含了“SentimentScore”, \"Heatwave\", \"AirPollutionInterpolate\", \"PrecipitationAnomaly\"\n",
        "# 为每个滞后天数生成变量\n",
        "for lag in range(1, 15):\n",
        "    df[f\"Heatwave_lag{lag}\"] = df['Heatwave'].shift(lag)\n",
        "    df[f\"AirPollutionInterpolate_lag{lag}\"] = df['AirPollutionInterpolate'].shift(lag)\n",
        "    df[f\"PrecipitationAnomaly_lag{lag}\"] = df['PrecipitationAnomaly'].shift(lag)\n",
        "\n",
        "# 选择最佳的基础模型加上所有滞后变量\n",
        "dlnm_formula = \"SentimentScore ~ \" + \" + \".join([f\"Heatwave_lag{lag}\" for lag in range(1, 15)]) + \" + \" + \\\n",
        "               \" + \".join([f\"AirPollutionInterpolate_lag{lag}\" for lag in range(1, 15)]) + \" + \" + \\\n",
        "               \" + \".join([f\"PrecipitationAnomaly_lag{lag}\" for lag in range(1, 15)]) + \\\n",
        "               \" + other variables from the best model\"\n",
        "\n",
        "# 运行DLNM模型\n",
        "print(\"Running DLNM Model with Lags 1-14\")\n",
        "run_inla_model(dlnm_formula, df)"
      ],
      "metadata": {
        "id": "-rmOeIwff9jz"
      },
      "execution_count": null,
      "outputs": []
    }
  ]
}