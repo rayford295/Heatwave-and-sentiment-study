{
  "nbformat": 4,
  "nbformat_minor": 0,
  "metadata": {
    "colab": {
      "provenance": []
    },
    "kernelspec": {
      "name": "python3",
      "display_name": "Python 3"
    },
    "language_info": {
      "name": "python"
    }
  },
  "cells": [
    {
      "cell_type": "code",
      "execution_count": 2,
      "metadata": {
        "colab": {
          "base_uri": "https://localhost:8080/"
        },
        "id": "URaPfQaV23Vp",
        "outputId": "3ca8d9dd-f5f8-4140-86d6-398819c11a61"
      },
      "outputs": [
        {
          "output_type": "stream",
          "name": "stdout",
          "text": [
            "Mounted at /content/drive\n"
          ]
        }
      ],
      "source": [
        "from google.colab import drive\n",
        "drive.mount('/content/drive')"
      ]
    },
    {
      "cell_type": "code",
      "source": [
        "file_path = '/content/drive/My Drive/StateCountyDaily_Panel_merge_Timeline_SpatialAOD_Aug15.csv'"
      ],
      "metadata": {
        "id": "Xq2BesF58pBO"
      },
      "execution_count": 3,
      "outputs": []
    },
    {
      "cell_type": "code",
      "source": [
        "# 确保 pandas 已经安装\n",
        "import pandas as pd\n",
        "\n",
        "# 定义文件路径\n",
        "file_path = '/content/drive/My Drive/StateCountyDaily_Panel_merge_Timeline_SpatialAOD_Aug15.csv'\n",
        "\n",
        "# 读取 CSV 文件的前几行来查看其目录结构\n",
        "df = pd.read_csv(file_path, nrows=5)  # 只加载前5行以节省内存和时间\n",
        "\n",
        "# 显示数据\n",
        "print(df)\n"
      ],
      "metadata": {
        "colab": {
          "base_uri": "https://localhost:8080/"
        },
        "id": "YnlCVFOI9Lng",
        "outputId": "f0bcc934-9886-4b21-b929-da96b8220a30"
      },
      "execution_count": 4,
      "outputs": [
        {
          "output_type": "stream",
          "name": "stdout",
          "text": [
            "   Unnamed: 0.1  Unnamed: 0  GEOID CountyName  STATEcode STATEname  \\\n",
            "0             0           0   1001    Autauga          1   Alabama   \n",
            "1             1           1   1001    Autauga          1   Alabama   \n",
            "2             2           2   1001    Autauga          1   Alabama   \n",
            "3             3           3   1001    Autauga          1   Alabama   \n",
            "4             4           4   1001    Autauga          1   Alabama   \n",
            "\n",
            "         Date  SentimentScore  HeatCount  Humidity  ...  \\\n",
            "0  2016-01-01        0.283849        0.0       0.0  ...   \n",
            "1  2016-01-02        0.611792        0.0       0.0  ...   \n",
            "2  2016-01-03        0.000000        0.0       0.0  ...   \n",
            "3  2016-01-04        0.652294        0.0       0.0  ...   \n",
            "4  2016-01-05        0.849365        0.0       0.0  ...   \n",
            "\n",
            "   ContainmentHealthIndex  EconomicSupportIndex  Holiday  Year  Week  Weekend  \\\n",
            "0                     0.0                   0.0      1.0  2016     1        0   \n",
            "1                     0.0                   0.0      0.0  2016     1        1   \n",
            "2                     0.0                   0.0      0.0  2016     2        1   \n",
            "3                     0.0                   0.0      0.0  2016     2        0   \n",
            "4                     0.0                   0.0      0.0  2016     2        0   \n",
            "\n",
            "         AOD  AOD_spline  Filled_AOD  Merge_AOD  \n",
            "0        NaN    0.000000  102.775941   0.000000  \n",
            "1        NaN    0.000000   86.139149   0.000000  \n",
            "2        NaN   14.478374   80.756959  14.478374  \n",
            "3  28.038751   28.038751   57.850336  28.038751  \n",
            "4  20.402847   20.402847   24.086170  20.402847  \n",
            "\n",
            "[5 rows x 29 columns]\n"
          ]
        }
      ]
    },
    {
      "cell_type": "code",
      "source": [
        "import pandas as pd\n",
        "\n",
        "# 定义文件路径\n",
        "file_path = '/content/drive/My Drive/StateCountyDaily_Panel_merge_Timeline_SpatialAOD_Aug15.csv'\n",
        "\n",
        "# 读取 CSV 文件，确保 Date 列被解析为日期格式\n",
        "df = pd.read_csv(file_path, parse_dates=['Date'])\n",
        "\n",
        "# 过滤出夏季的数据（5月1日至9月30日）\n",
        "df_summer = df[(df['Date'].dt.month >= 5) & (df['Date'].dt.month <= 9) &\n",
        "               (df['Date'].dt.day >= 1) & ((df['Date'].dt.month < 9) | (df['Date'].dt.day <= 30))]\n",
        "\n",
        "# 显示过滤后的数据概览\n",
        "print(df_summer.head())"
      ],
      "metadata": {
        "colab": {
          "base_uri": "https://localhost:8080/"
        },
        "id": "lYyHK6xZ9svJ",
        "outputId": "debe940d-d170-4813-ce8c-78ffed6b282d"
      },
      "execution_count": 5,
      "outputs": [
        {
          "output_type": "stream",
          "name": "stdout",
          "text": [
            "     Unnamed: 0.1  Unnamed: 0  GEOID CountyName  STATEcode STATEname  \\\n",
            "121           121         121   1001    Autauga          1   Alabama   \n",
            "122           122         122   1001    Autauga          1   Alabama   \n",
            "123           123         123   1001    Autauga          1   Alabama   \n",
            "124           124         124   1001    Autauga          1   Alabama   \n",
            "125           125         125   1001    Autauga          1   Alabama   \n",
            "\n",
            "          Date  SentimentScore  HeatCount  Humidity  ...  \\\n",
            "121 2016-05-01        0.765864        0.0  0.014908  ...   \n",
            "122 2016-05-02        0.730763        0.0  0.015067  ...   \n",
            "123 2016-05-03        0.860456        0.0  0.013424  ...   \n",
            "124 2016-05-04        0.709626        0.0  0.008720  ...   \n",
            "125 2016-05-05        0.732566        0.0  0.007188  ...   \n",
            "\n",
            "     ContainmentHealthIndex  EconomicSupportIndex  Holiday  Year  Week  \\\n",
            "121                     0.0                   0.0      0.0  2016    19   \n",
            "122                     0.0                   0.0      0.0  2016    19   \n",
            "123                     0.0                   0.0      0.0  2016    19   \n",
            "124                     0.0                   0.0      0.0  2016    19   \n",
            "125                     0.0                   0.0      0.0  2016    19   \n",
            "\n",
            "     Weekend         AOD  AOD_spline  Filled_AOD   Merge_AOD  \n",
            "121        1         NaN  122.645647  290.200746  122.645647  \n",
            "122        0         NaN  140.376156  294.317589  140.376156  \n",
            "123        0         NaN  157.128069  294.861298  157.128069  \n",
            "124        0  132.043025  132.043025  132.269113  132.043025  \n",
            "125        0  107.122699  107.122699  108.033352  107.122699  \n",
            "\n",
            "[5 rows x 29 columns]\n"
          ]
        }
      ]
    },
    {
      "cell_type": "code",
      "source": [
        "# 定义保存过滤后数据的新文件路径\n",
        "output_file_path = '/content/drive/My Drive/filtered_summer_data.csv'\n",
        "\n",
        "# 将过滤后的数据保存到 CSV 文件\n",
        "df_summer.to_csv(output_file_path, index=False)\n",
        "\n",
        "print(f\"Filtered data has been saved to {output_file_path}\")"
      ],
      "metadata": {
        "colab": {
          "base_uri": "https://localhost:8080/"
        },
        "id": "56SjkPCB-Zqd",
        "outputId": "0f670a9a-495c-4419-be90-7fc7ff3b63a4"
      },
      "execution_count": 6,
      "outputs": [
        {
          "output_type": "stream",
          "name": "stdout",
          "text": [
            "Filtered data has been saved to /content/drive/My Drive/filtered_summer_data.csv\n"
          ]
        }
      ]
    }
  ]
}