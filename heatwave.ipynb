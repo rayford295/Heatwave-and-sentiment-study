{
  "nbformat": 4,
  "nbformat_minor": 0,
  "metadata": {
    "colab": {
      "provenance": []
    },
    "kernelspec": {
      "name": "python3",
      "display_name": "Python 3"
    },
    "language_info": {
      "name": "python"
    }
  },
  "cells": [
    {
      "cell_type": "code",
      "source": [
        "import pandas as pd\n",
        "\n",
        "# 加载数据集\n",
        "file_path = '/content/TestData_California.csv'\n",
        "data = pd.read_csv(file_path)\n",
        "\n",
        "# 查看数据的前几行以了解其结构\n",
        "print(data.head())\n",
        "\n",
        "# 检查列名，确保后续分析中正确引用这些列\n",
        "print(data.columns)"
      ],
      "metadata": {
        "colab": {
          "base_uri": "https://localhost:8080/"
        },
        "id": "h8s6OutNEJWS",
        "outputId": "049ada3b-d787-40af-b41b-2830466c399e"
      },
      "execution_count": 21,
      "outputs": [
        {
          "output_type": "stream",
          "name": "stdout",
          "text": [
            "   GEOID CountyName  STATEcode   STATEname      Date  Holiday  Year  Month  \\\n",
            "0   6001    Alameda          6  California  5/1/2016        0  2016      5   \n",
            "1   6001    Alameda          6  California  5/2/2016        0  2016      5   \n",
            "2   6001    Alameda          6  California  5/3/2016        0  2016      5   \n",
            "3   6001    Alameda          6  California  5/4/2016        0  2016      5   \n",
            "4   6001    Alameda          6  California  5/5/2016        0  2016      5   \n",
            "\n",
            "   Week  Weekend  ...     VI1     VI2     VI3     VI4  StringencyIndex  \\\n",
            "0    19        1  ...  0.2961  0.0328  0.9812  0.9112              0.0   \n",
            "1    19        0  ...  0.2961  0.0328  0.9812  0.9112              0.0   \n",
            "2    19        0  ...  0.2961  0.0328  0.9812  0.9112              0.0   \n",
            "3    19        0  ...  0.2961  0.0328  0.9812  0.9112              0.0   \n",
            "4    19        0  ...  0.2961  0.0328  0.9812  0.9112              0.0   \n",
            "\n",
            "   GovernmentResponseIndex  ContainmentHealthIndex  EconomicSupportIndex  \\\n",
            "0                      0.0                     0.0                   0.0   \n",
            "1                      0.0                     0.0                   0.0   \n",
            "2                      0.0                     0.0                   0.0   \n",
            "3                      0.0                     0.0                   0.0   \n",
            "4                      0.0                     0.0                   0.0   \n",
            "\n",
            "   AirPolllutionRaw  AirPolllution_Interpolate  \n",
            "0  92.0685292934538                  92.068529  \n",
            "1  169.214362603712                 169.214363  \n",
            "2                                   259.201330  \n",
            "3                                   347.321257  \n",
            "4                                   412.119760  \n",
            "\n",
            "[5 rows x 26 columns]\n",
            "Index(['GEOID', 'CountyName', 'STATEcode', 'STATEname', 'Date', 'Holiday',\n",
            "       'Year', 'Month', 'Week', 'Weekend', 'SentimentScore', 'HeatCount',\n",
            "       'Humidity', 'Precipitation', 'Solar', 'VulnerabilityIndex', 'VI1',\n",
            "       'VI2', 'VI3', 'VI4', 'StringencyIndex', 'GovernmentResponseIndex',\n",
            "       'ContainmentHealthIndex', 'EconomicSupportIndex', 'AirPolllutionRaw',\n",
            "       'AirPolllution_Interpolate'],\n",
            "      dtype='object')\n"
          ]
        }
      ]
    },
    {
      "cell_type": "code",
      "source": [
        "import statsmodels.formula.api as smf\n",
        "\n",
        "# 定义并拟合模型1\n",
        "model_1 = smf.ols('SentimentScore ~ HeatCount', data=data).fit()\n",
        "print(model_1.summary())"
      ],
      "metadata": {
        "colab": {
          "base_uri": "https://localhost:8080/"
        },
        "id": "8tPW_GZ6EM8G",
        "outputId": "04be9a7e-06bc-41eb-8805-dda51e94bce0"
      },
      "execution_count": 22,
      "outputs": [
        {
          "output_type": "stream",
          "name": "stdout",
          "text": [
            "                            OLS Regression Results                            \n",
            "==============================================================================\n",
            "Dep. Variable:         SentimentScore   R-squared:                       0.001\n",
            "Model:                            OLS   Adj. R-squared:                  0.001\n",
            "Method:                 Least Squares   F-statistic:                     37.20\n",
            "Date:                Tue, 13 Feb 2024   Prob (F-statistic):           1.07e-09\n",
            "Time:                        06:04:19   Log-Likelihood:                 19917.\n",
            "No. Observations:               62118   AIC:                        -3.983e+04\n",
            "Df Residuals:                   62116   BIC:                        -3.981e+04\n",
            "Df Model:                           1                                         \n",
            "Covariance Type:            nonrobust                                         \n",
            "==============================================================================\n",
            "                 coef    std err          t      P>|t|      [0.025      0.975]\n",
            "------------------------------------------------------------------------------\n",
            "Intercept      0.5745      0.001    781.555      0.000       0.573       0.576\n",
            "HeatCount      0.0157      0.003      6.099      0.000       0.011       0.021\n",
            "==============================================================================\n",
            "Omnibus:                    27167.080   Durbin-Watson:                   0.820\n",
            "Prob(Omnibus):                  0.000   Jarque-Bera (JB):           117570.786\n",
            "Skew:                          -2.187   Prob(JB):                         0.00\n",
            "Kurtosis:                       8.127   Cond. No.                         3.68\n",
            "==============================================================================\n",
            "\n",
            "Notes:\n",
            "[1] Standard Errors assume that the covariance matrix of the errors is correctly specified.\n"
          ]
        }
      ]
    },
    {
      "cell_type": "code",
      "source": [
        "# 定义并拟合模型2\n",
        "model_2 = smf.ols('SentimentScore ~ AirPolllution_Interpolate', data=data).fit()\n",
        "print(model_2.summary())"
      ],
      "metadata": {
        "colab": {
          "base_uri": "https://localhost:8080/"
        },
        "id": "JZeOybMWEPv7",
        "outputId": "5ef64c23-9d39-4a90-ae5b-dbd5302b59fb"
      },
      "execution_count": 23,
      "outputs": [
        {
          "output_type": "stream",
          "name": "stdout",
          "text": [
            "                            OLS Regression Results                            \n",
            "==============================================================================\n",
            "Dep. Variable:         SentimentScore   R-squared:                       0.000\n",
            "Model:                            OLS   Adj. R-squared:                 -0.000\n",
            "Method:                 Least Squares   F-statistic:                   0.04878\n",
            "Date:                Tue, 13 Feb 2024   Prob (F-statistic):              0.825\n",
            "Time:                        06:04:29   Log-Likelihood:                 19899.\n",
            "No. Observations:               62118   AIC:                        -3.979e+04\n",
            "Df Residuals:                   62116   BIC:                        -3.978e+04\n",
            "Df Model:                           1                                         \n",
            "Covariance Type:            nonrobust                                         \n",
            "=============================================================================================\n",
            "                                coef    std err          t      P>|t|      [0.025      0.975]\n",
            "---------------------------------------------------------------------------------------------\n",
            "Intercept                     0.5757      0.001    597.695      0.000       0.574       0.578\n",
            "AirPolllution_Interpolate   8.94e-07   4.05e-06      0.221      0.825   -7.04e-06    8.83e-06\n",
            "==============================================================================\n",
            "Omnibus:                    27209.776   Durbin-Watson:                   0.819\n",
            "Prob(Omnibus):                  0.000   Jarque-Bera (JB):           117987.490\n",
            "Skew:                          -2.190   Prob(JB):                         0.00\n",
            "Kurtosis:                       8.137   Cond. No.                         325.\n",
            "==============================================================================\n",
            "\n",
            "Notes:\n",
            "[1] Standard Errors assume that the covariance matrix of the errors is correctly specified.\n"
          ]
        }
      ]
    },
    {
      "cell_type": "code",
      "source": [
        "# 定义并拟合模型3\n",
        "model_3 = smf.ols('SentimentScore ~ HeatCount + AirPolllution_Interpolate', data=data).fit()\n",
        "print(model_3.summary())"
      ],
      "metadata": {
        "colab": {
          "base_uri": "https://localhost:8080/"
        },
        "id": "QfDA1JxKESeV",
        "outputId": "19be8a80-4ea5-4fe2-ee68-f79e12ea5f3f"
      },
      "execution_count": 24,
      "outputs": [
        {
          "output_type": "stream",
          "name": "stdout",
          "text": [
            "                            OLS Regression Results                            \n",
            "==============================================================================\n",
            "Dep. Variable:         SentimentScore   R-squared:                       0.001\n",
            "Model:                            OLS   Adj. R-squared:                  0.001\n",
            "Method:                 Least Squares   F-statistic:                     18.90\n",
            "Date:                Tue, 13 Feb 2024   Prob (F-statistic):           6.22e-09\n",
            "Time:                        06:04:40   Log-Likelihood:                 19918.\n",
            "No. Observations:               62118   AIC:                        -3.983e+04\n",
            "Df Residuals:                   62115   BIC:                        -3.980e+04\n",
            "Df Model:                           2                                         \n",
            "Covariance Type:            nonrobust                                         \n",
            "=============================================================================================\n",
            "                                coef    std err          t      P>|t|      [0.025      0.975]\n",
            "---------------------------------------------------------------------------------------------\n",
            "Intercept                     0.5750      0.001    593.666      0.000       0.573       0.577\n",
            "HeatCount                     0.0160      0.003      6.144      0.000       0.011       0.021\n",
            "AirPolllution_Interpolate -3.173e-06    4.1e-06     -0.774      0.439   -1.12e-05    4.86e-06\n",
            "==============================================================================\n",
            "Omnibus:                    27183.441   Durbin-Watson:                   0.820\n",
            "Prob(Omnibus):                  0.000   Jarque-Bera (JB):           117736.797\n",
            "Skew:                          -2.188   Prob(JB):                         0.00\n",
            "Kurtosis:                       8.131   Cond. No.                         882.\n",
            "==============================================================================\n",
            "\n",
            "Notes:\n",
            "[1] Standard Errors assume that the covariance matrix of the errors is correctly specified.\n"
          ]
        }
      ]
    },
    {
      "cell_type": "code",
      "source": [
        "# 定义并拟合模型4\n",
        "model_4 = smf.ols('SentimentScore ~ HeatCount + AirPolllution_Interpolate + C(STATEname) + C(Year) + C(Month) + C(Weekend)', data=data).fit()\n",
        "print(model_4.summary())"
      ],
      "metadata": {
        "colab": {
          "base_uri": "https://localhost:8080/"
        },
        "id": "D-lgJNUnEVN2",
        "outputId": "349e6330-9a28-48c1-da18-bdf35c797801"
      },
      "execution_count": 25,
      "outputs": [
        {
          "output_type": "stream",
          "name": "stdout",
          "text": [
            "                            OLS Regression Results                            \n",
            "==============================================================================\n",
            "Dep. Variable:         SentimentScore   R-squared:                       0.058\n",
            "Model:                            OLS   Adj. R-squared:                  0.057\n",
            "Method:                 Least Squares   F-statistic:                     292.4\n",
            "Date:                Tue, 13 Feb 2024   Prob (F-statistic):               0.00\n",
            "Time:                        06:04:54   Log-Likelihood:                 21744.\n",
            "No. Observations:               62118   AIC:                        -4.346e+04\n",
            "Df Residuals:                   62104   BIC:                        -4.333e+04\n",
            "Df Model:                          13                                         \n",
            "Covariance Type:            nonrobust                                         \n",
            "=============================================================================================\n",
            "                                coef    std err          t      P>|t|      [0.025      0.975]\n",
            "---------------------------------------------------------------------------------------------\n",
            "Intercept                     0.6217      0.002    263.998      0.000       0.617       0.626\n",
            "C(Year)[T.2017]              -0.0106      0.003     -4.130      0.000      -0.016      -0.006\n",
            "C(Year)[T.2018]               0.0031      0.003      1.206      0.228      -0.002       0.008\n",
            "C(Year)[T.2019]              -0.0853      0.003    -33.312      0.000      -0.090      -0.080\n",
            "C(Year)[T.2020]              -0.0379      0.003    -14.609      0.000      -0.043      -0.033\n",
            "C(Year)[T.2021]              -0.0316      0.003    -12.224      0.000      -0.037      -0.027\n",
            "C(Year)[T.2022]              -0.0132      0.003     -5.142      0.000      -0.018      -0.008\n",
            "C(Month)[T.6]                -0.0247      0.002    -11.333      0.000      -0.029      -0.020\n",
            "C(Month)[T.7]                 0.0044      0.002      2.012      0.044       0.000       0.009\n",
            "C(Month)[T.8]                -0.0234      0.002    -10.675      0.000      -0.028      -0.019\n",
            "C(Month)[T.9]                -0.0833      0.002    -38.115      0.000      -0.088      -0.079\n",
            "C(Weekend)[T.1]               0.0031      0.002      2.043      0.041       0.000       0.006\n",
            "HeatCount                     0.0113      0.003      4.387      0.000       0.006       0.016\n",
            "AirPolllution_Interpolate  1.462e-05   4.19e-06      3.487      0.000     6.4e-06    2.28e-05\n",
            "==============================================================================\n",
            "Omnibus:                    27107.031   Durbin-Watson:                   0.871\n",
            "Prob(Omnibus):                  0.000   Jarque-Bera (JB):           118264.832\n",
            "Skew:                          -2.177   Prob(JB):                         0.00\n",
            "Kurtosis:                       8.171   Cond. No.                     1.79e+03\n",
            "==============================================================================\n",
            "\n",
            "Notes:\n",
            "[1] Standard Errors assume that the covariance matrix of the errors is correctly specified.\n",
            "[2] The condition number is large, 1.79e+03. This might indicate that there are\n",
            "strong multicollinearity or other numerical problems.\n"
          ]
        }
      ]
    },
    {
      "cell_type": "code",
      "source": [
        "# 定义并拟合模型5\n",
        "model_5_formula = 'SentimentScore ~ HeatCount + AirPolllution_Interpolate + C(STATEname) + C(Year) + C(Month) + C(Weekend) + Humidity + Precipitation + Solar + VulnerabilityIndex'\n",
        "model_5 = smf.ols(model_5_formula, data=data).fit()\n",
        "print(model_5.summary())"
      ],
      "metadata": {
        "colab": {
          "base_uri": "https://localhost:8080/"
        },
        "id": "4qufpDFPEZAf",
        "outputId": "1ab97274-97e2-4003-a187-49320690f28c"
      },
      "execution_count": 26,
      "outputs": [
        {
          "output_type": "stream",
          "name": "stdout",
          "text": [
            "                            OLS Regression Results                            \n",
            "==============================================================================\n",
            "Dep. Variable:         SentimentScore   R-squared:                       0.069\n",
            "Model:                            OLS   Adj. R-squared:                  0.068\n",
            "Method:                 Least Squares   F-statistic:                     269.3\n",
            "Date:                Tue, 13 Feb 2024   Prob (F-statistic):               0.00\n",
            "Time:                        06:05:10   Log-Likelihood:                 22108.\n",
            "No. Observations:               62118   AIC:                        -4.418e+04\n",
            "Df Residuals:                   62100   BIC:                        -4.402e+04\n",
            "Df Model:                          17                                         \n",
            "Covariance Type:            nonrobust                                         \n",
            "=============================================================================================\n",
            "                                coef    std err          t      P>|t|      [0.025      0.975]\n",
            "---------------------------------------------------------------------------------------------\n",
            "Intercept                     0.5283      0.006     86.518      0.000       0.516       0.540\n",
            "C(Year)[T.2017]              -0.0191      0.003     -7.433      0.000      -0.024      -0.014\n",
            "C(Year)[T.2018]               0.0030      0.003      1.179      0.238      -0.002       0.008\n",
            "C(Year)[T.2019]              -0.0931      0.003    -36.213      0.000      -0.098      -0.088\n",
            "C(Year)[T.2020]              -0.0369      0.003    -14.321      0.000      -0.042      -0.032\n",
            "C(Year)[T.2021]              -0.0283      0.003    -11.017      0.000      -0.033      -0.023\n",
            "C(Year)[T.2022]              -0.0167      0.003     -5.219      0.000      -0.023      -0.010\n",
            "C(Month)[T.6]                -0.0322      0.002    -14.680      0.000      -0.037      -0.028\n",
            "C(Month)[T.7]                -0.0045      0.002     -2.053      0.040      -0.009      -0.000\n",
            "C(Month)[T.8]                -0.0266      0.002    -11.943      0.000      -0.031      -0.022\n",
            "C(Month)[T.9]                -0.0726      0.002    -29.827      0.000      -0.077      -0.068\n",
            "C(Weekend)[T.1]               0.0035      0.002      2.348      0.019       0.001       0.006\n",
            "HeatCount                     0.0076      0.003      2.962      0.003       0.003       0.013\n",
            "AirPolllution_Interpolate  1.889e-05   4.22e-06      4.472      0.000    1.06e-05    2.72e-05\n",
            "Humidity                     10.2186      0.381     26.835      0.000       9.472      10.965\n",
            "Precipitation                -0.0001      0.000     -0.326      0.744      -0.001       0.001\n",
            "Solar                         0.0001   1.39e-05      7.218      0.000    7.32e-05       0.000\n",
            "VulnerabilityIndex           -0.0033      0.003     -1.105      0.269      -0.009       0.003\n",
            "==============================================================================\n",
            "Omnibus:                    26541.501   Durbin-Watson:                   0.882\n",
            "Prob(Omnibus):                  0.000   Jarque-Bera (JB):           113897.301\n",
            "Skew:                          -2.130   Prob(JB):                         0.00\n",
            "Kurtosis:                       8.085   Cond. No.                     2.00e+05\n",
            "==============================================================================\n",
            "\n",
            "Notes:\n",
            "[1] Standard Errors assume that the covariance matrix of the errors is correctly specified.\n",
            "[2] The condition number is large,  2e+05. This might indicate that there are\n",
            "strong multicollinearity or other numerical problems.\n"
          ]
        }
      ]
    },
    {
      "cell_type": "code",
      "source": [
        "# 过滤出2020和2021年的数据\n",
        "data_pandemic = data[data['Year'].isin([2020, 2021])]\n",
        "\n",
        "# 定义并拟合模型6\n",
        "model_6_formula = 'SentimentScore ~ HeatCount + AirPolllution_Interpolate + C(STATEname) + C(Year) + C(Month) + C(Weekend) + Humidity + Precipitation + Solar + VulnerabilityIndex + StringencyIndex'\n",
        "model_6 = smf.ols(model_6_formula, data=data_pandemic).fit()\n",
        "print(model_6.summary())\n"
      ],
      "metadata": {
        "colab": {
          "base_uri": "https://localhost:8080/"
        },
        "id": "iMf-rHPnEci3",
        "outputId": "53557cbb-0eed-4001-f055-2f1e1a032815"
      },
      "execution_count": 27,
      "outputs": [
        {
          "output_type": "stream",
          "name": "stdout",
          "text": [
            "                            OLS Regression Results                            \n",
            "==============================================================================\n",
            "Dep. Variable:         SentimentScore   R-squared:                       0.012\n",
            "Model:                            OLS   Adj. R-squared:                  0.012\n",
            "Method:                 Least Squares   F-statistic:                     17.21\n",
            "Date:                Tue, 13 Feb 2024   Prob (F-statistic):           3.40e-40\n",
            "Time:                        06:05:20   Log-Likelihood:                 13591.\n",
            "No. Observations:               17748   AIC:                        -2.715e+04\n",
            "Df Residuals:                   17734   BIC:                        -2.705e+04\n",
            "Df Model:                          13                                         \n",
            "Covariance Type:            nonrobust                                         \n",
            "=============================================================================================\n",
            "                                coef    std err          t      P>|t|      [0.025      0.975]\n",
            "---------------------------------------------------------------------------------------------\n",
            "Intercept                     0.4594      0.013     36.585      0.000       0.435       0.484\n",
            "C(Year)[T.2021]               0.0263      0.004      6.276      0.000       0.018       0.035\n",
            "C(Month)[T.6]                 0.0019      0.003      0.637      0.524      -0.004       0.008\n",
            "C(Month)[T.7]                 0.0088      0.003      2.553      0.011       0.002       0.016\n",
            "C(Month)[T.8]                -0.0004      0.004     -0.102      0.919      -0.008       0.007\n",
            "C(Month)[T.9]                 0.0196      0.004      5.110      0.000       0.012       0.027\n",
            "C(Weekend)[T.1]               0.0058      0.002      3.101      0.002       0.002       0.009\n",
            "HeatCount                    -0.0026      0.003     -0.901      0.368      -0.008       0.003\n",
            "AirPolllution_Interpolate  -3.29e-06   3.51e-06     -0.936      0.349   -1.02e-05     3.6e-06\n",
            "Humidity                      5.5257      0.487     11.350      0.000       4.571       6.480\n",
            "Precipitation                 0.0008      0.001      1.372      0.170      -0.000       0.002\n",
            "Solar                      4.375e-05   1.77e-05      2.474      0.013    9.08e-06    7.84e-05\n",
            "VulnerabilityIndex            0.0109      0.004      2.957      0.003       0.004       0.018\n",
            "StringencyIndex               0.0007      0.000      4.927      0.000       0.000       0.001\n",
            "==============================================================================\n",
            "Omnibus:                    11163.628   Durbin-Watson:                   1.459\n",
            "Prob(Omnibus):                  0.000   Jarque-Bera (JB):           165258.381\n",
            "Skew:                          -2.806   Prob(JB):                         0.00\n",
            "Kurtosis:                      16.855   Cond. No.                     2.41e+05\n",
            "==============================================================================\n",
            "\n",
            "Notes:\n",
            "[1] Standard Errors assume that the covariance matrix of the errors is correctly specified.\n",
            "[2] The condition number is large, 2.41e+05. This might indicate that there are\n",
            "strong multicollinearity or other numerical problems.\n"
          ]
        }
      ]
    }
  ]
}